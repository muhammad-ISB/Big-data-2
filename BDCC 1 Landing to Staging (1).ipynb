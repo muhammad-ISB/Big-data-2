{
 "cells": [
  {
   "cell_type": "markdown",
   "metadata": {
    "application/vnd.databricks.v1+cell": {
     "cellMetadata": {
      "byteLimit": 2048000,
      "rowLimit": 10000
     },
     "inputWidgets": {},
     "nuid": "0be9a13a-8f20-488b-af14-0f9cfb907a13",
     "showTitle": false,
     "title": ""
    }
   },
   "source": [
    "# Landing Zone\n",
    "\n",
    "Setup file location for customer and order data"
   ]
  },
  {
   "cell_type": "markdown",
   "metadata": {
    "application/vnd.databricks.v1+cell": {
     "cellMetadata": {
      "byteLimit": 2048000,
      "rowLimit": 10000
     },
     "inputWidgets": {},
     "nuid": "863969f0-bcc7-460d-9e89-03cc62c7f8c4",
     "showTitle": false,
     "title": ""
    }
   },
   "source": [
    "\n",
    "### Read Files"
   ]
  },
  {
   "cell_type": "code",
   "execution_count": 0,
   "metadata": {
    "application/vnd.databricks.v1+cell": {
     "cellMetadata": {
      "byteLimit": 2048000,
      "rowLimit": 10000
     },
     "inputWidgets": {},
     "nuid": "4e557ef1-84d7-462b-96a0-1412d6692d39",
     "showTitle": false,
     "title": ""
    }
   },
   "outputs": [],
   "source": [
    "# Import necessary libraries\n",
    "from pyspark.sql import SparkSession\n",
    "from pyspark.sql.types import StructType, StructField, DoubleType, StringType, LongType, DateType, IntegerType\n",
    "import pyspark.sql.functions as F\n",
    "\n",
    "spark.conf.set(\"spark.sql.legacy.timeParserPolicy\",\"LEGACY\")"
   ]
  },
  {
   "cell_type": "markdown",
   "metadata": {
    "application/vnd.databricks.v1+cell": {
     "cellMetadata": {
      "byteLimit": 2048000,
      "rowLimit": 10000
     },
     "inputWidgets": {},
     "nuid": "708c7bd0-594f-4331-a9e8-c7ea19253cbf",
     "showTitle": false,
     "title": ""
    }
   },
   "source": [
    "\n",
    "check file delivery to location"
   ]
  },
  {
   "cell_type": "code",
   "execution_count": 0,
   "metadata": {
    "application/vnd.databricks.v1+cell": {
     "cellMetadata": {
      "byteLimit": 2048000,
      "rowLimit": 10000
     },
     "inputWidgets": {},
     "nuid": "fa0dc1eb-31be-453f-aae7-a672ace5be9b",
     "showTitle": false,
     "title": ""
    }
   },
   "outputs": [
    {
     "output_type": "display_data",
     "data": {
      "text/html": [
       "<style scoped>\n",
       "  .table-result-container {\n",
       "    max-height: 300px;\n",
       "    overflow: auto;\n",
       "  }\n",
       "  table, th, td {\n",
       "    border: 1px solid black;\n",
       "    border-collapse: collapse;\n",
       "  }\n",
       "  th, td {\n",
       "    padding: 5px;\n",
       "  }\n",
       "  th {\n",
       "    text-align: left;\n",
       "  }\n",
       "</style><div class='table-result-container'><table class='table-result'><thead style='background-color: white'><tr><th>path</th><th>name</th><th>size</th><th>modificationTime</th></tr></thead><tbody><tr><td>dbfs:/FileStore/tables/customers.json</td><td>customers.json</td><td>15815082</td><td>1704085320000</td></tr></tbody></table></div>"
      ]
     },
     "metadata": {
      "application/vnd.databricks.v1+output": {
       "addedWidgets": {},
       "aggData": [],
       "aggError": "",
       "aggOverflow": false,
       "aggSchema": [],
       "aggSeriesLimitReached": false,
       "aggType": "",
       "arguments": {},
       "columnCustomDisplayInfos": {},
       "data": [
        [
         "dbfs:/FileStore/tables/customers.json",
         "customers.json",
         15815082,
         1704085320000
        ]
       ],
       "datasetInfos": [],
       "dbfsResultPath": null,
       "isJsonSchema": true,
       "metadata": {
        "isDbfsCommandResult": false
       },
       "overflow": false,
       "plotOptions": {
        "customPlotOptions": {},
        "displayType": "table",
        "pivotAggregation": null,
        "pivotColumns": null,
        "xColumns": null,
        "yColumns": null
       },
       "removedWidgets": [],
       "schema": [
        {
         "metadata": "{}",
         "name": "path",
         "type": "\"string\""
        },
        {
         "metadata": "{}",
         "name": "name",
         "type": "\"string\""
        },
        {
         "metadata": "{}",
         "name": "size",
         "type": "\"long\""
        },
        {
         "metadata": "{}",
         "name": "modificationTime",
         "type": "\"long\""
        }
       ],
       "type": "table"
      }
     },
     "output_type": "display_data"
    }
   ],
   "source": [
    "%fs ls /FileStore/tables/customers.json"
   ]
  },
  {
   "cell_type": "code",
   "execution_count": 0,
   "metadata": {
    "application/vnd.databricks.v1+cell": {
     "cellMetadata": {
      "byteLimit": 2048000,
      "rowLimit": 10000
     },
     "inputWidgets": {},
     "nuid": "2318fc2c-9034-41fe-9fa9-27647c0f4f88",
     "showTitle": false,
     "title": ""
    }
   },
   "outputs": [
    {
     "output_type": "display_data",
     "data": {
      "text/html": [
       "<style scoped>\n",
       "  .table-result-container {\n",
       "    max-height: 300px;\n",
       "    overflow: auto;\n",
       "  }\n",
       "  table, th, td {\n",
       "    border: 1px solid black;\n",
       "    border-collapse: collapse;\n",
       "  }\n",
       "  th, td {\n",
       "    padding: 5px;\n",
       "  }\n",
       "  th {\n",
       "    text-align: left;\n",
       "  }\n",
       "</style><div class='table-result-container'><table class='table-result'><thead style='background-color: white'><tr><th>path</th><th>name</th><th>size</th><th>modificationTime</th></tr></thead><tbody><tr><td>dbfs:/FileStore/tables/orders.csv</td><td>orders.csv</td><td>32138462</td><td>1704085327000</td></tr></tbody></table></div>"
      ]
     },
     "metadata": {
      "application/vnd.databricks.v1+output": {
       "addedWidgets": {},
       "aggData": [],
       "aggError": "",
       "aggOverflow": false,
       "aggSchema": [],
       "aggSeriesLimitReached": false,
       "aggType": "",
       "arguments": {},
       "columnCustomDisplayInfos": {},
       "data": [
        [
         "dbfs:/FileStore/tables/orders.csv",
         "orders.csv",
         32138462,
         1704085327000
        ]
       ],
       "datasetInfos": [],
       "dbfsResultPath": null,
       "isJsonSchema": true,
       "metadata": {
        "isDbfsCommandResult": false
       },
       "overflow": false,
       "plotOptions": {
        "customPlotOptions": {},
        "displayType": "table",
        "pivotAggregation": null,
        "pivotColumns": null,
        "xColumns": null,
        "yColumns": null
       },
       "removedWidgets": [],
       "schema": [
        {
         "metadata": "{}",
         "name": "path",
         "type": "\"string\""
        },
        {
         "metadata": "{}",
         "name": "name",
         "type": "\"string\""
        },
        {
         "metadata": "{}",
         "name": "size",
         "type": "\"long\""
        },
        {
         "metadata": "{}",
         "name": "modificationTime",
         "type": "\"long\""
        }
       ],
       "type": "table"
      }
     },
     "output_type": "display_data"
    }
   ],
   "source": [
    "%fs ls /FileStore/tables/orders.csv"
   ]
  },
  {
   "cell_type": "markdown",
   "metadata": {
    "application/vnd.databricks.v1+cell": {
     "cellMetadata": {
      "byteLimit": 2048000,
      "rowLimit": 10000
     },
     "inputWidgets": {},
     "nuid": "3af824a8-e4c9-46f4-a57a-e07df0486e00",
     "showTitle": false,
     "title": ""
    }
   },
   "source": [
    "\n",
    "# Staging Zone\n",
    "\n",
    "setup staging to ingest into tables"
   ]
  },
  {
   "cell_type": "code",
   "execution_count": 0,
   "metadata": {
    "application/vnd.databricks.v1+cell": {
     "cellMetadata": {
      "byteLimit": 2048000,
      "implicitDf": true,
      "rowLimit": 10000
     },
     "inputWidgets": {},
     "nuid": "b64cbf98-0d9d-4363-a755-64eb4801872c",
     "showTitle": false,
     "title": ""
    }
   },
   "outputs": [
    {
     "output_type": "display_data",
     "data": {
      "text/html": [
       "<style scoped>\n",
       "  .table-result-container {\n",
       "    max-height: 300px;\n",
       "    overflow: auto;\n",
       "  }\n",
       "  table, th, td {\n",
       "    border: 1px solid black;\n",
       "    border-collapse: collapse;\n",
       "  }\n",
       "  th, td {\n",
       "    padding: 5px;\n",
       "  }\n",
       "  th {\n",
       "    text-align: left;\n",
       "  }\n",
       "</style><div class='table-result-container'><table class='table-result'><thead style='background-color: white'><tr></tr></thead><tbody></tbody></table></div>"
      ]
     },
     "metadata": {
      "application/vnd.databricks.v1+output": {
       "addedWidgets": {},
       "aggData": [],
       "aggError": "",
       "aggOverflow": false,
       "aggSchema": [],
       "aggSeriesLimitReached": false,
       "aggType": "",
       "arguments": {},
       "columnCustomDisplayInfos": {},
       "data": [],
       "datasetInfos": [],
       "dbfsResultPath": null,
       "isJsonSchema": true,
       "metadata": {},
       "overflow": false,
       "plotOptions": {
        "customPlotOptions": {},
        "displayType": "table",
        "pivotAggregation": null,
        "pivotColumns": null,
        "xColumns": null,
        "yColumns": null
       },
       "removedWidgets": [],
       "schema": [],
       "type": "table"
      }
     },
     "output_type": "display_data"
    }
   ],
   "source": [
    "%sql \n",
    "\n",
    "-- Create a staging database\n",
    "\n",
    "DROP DATABASE IF EXISTS staging_assignment CASCADE;\n",
    "\n",
    "CREATE DATABASE staging_assignment;"
   ]
  },
  {
   "cell_type": "code",
   "execution_count": 0,
   "metadata": {
    "application/vnd.databricks.v1+cell": {
     "cellMetadata": {
      "byteLimit": 2048000,
      "implicitDf": true,
      "rowLimit": 10000
     },
     "inputWidgets": {},
     "nuid": "cb5cd8fc-f8ea-41ea-82de-bac1b516e1eb",
     "showTitle": false,
     "title": ""
    }
   },
   "outputs": [
    {
     "output_type": "display_data",
     "data": {
      "text/html": [
       "<style scoped>\n",
       "  .table-result-container {\n",
       "    max-height: 300px;\n",
       "    overflow: auto;\n",
       "  }\n",
       "  table, th, td {\n",
       "    border: 1px solid black;\n",
       "    border-collapse: collapse;\n",
       "  }\n",
       "  th, td {\n",
       "    padding: 5px;\n",
       "  }\n",
       "  th {\n",
       "    text-align: left;\n",
       "  }\n",
       "</style><div class='table-result-container'><table class='table-result'><thead style='background-color: white'><tr></tr></thead><tbody></tbody></table></div>"
      ]
     },
     "metadata": {
      "application/vnd.databricks.v1+output": {
       "addedWidgets": {},
       "aggData": [],
       "aggError": "",
       "aggOverflow": false,
       "aggSchema": [],
       "aggSeriesLimitReached": false,
       "aggType": "",
       "arguments": {},
       "columnCustomDisplayInfos": {},
       "data": [],
       "datasetInfos": [],
       "dbfsResultPath": null,
       "isJsonSchema": true,
       "metadata": {},
       "overflow": false,
       "plotOptions": {
        "customPlotOptions": {},
        "displayType": "table",
        "pivotAggregation": null,
        "pivotColumns": null,
        "xColumns": null,
        "yColumns": null
       },
       "removedWidgets": [],
       "schema": [],
       "type": "table"
      }
     },
     "output_type": "display_data"
    }
   ],
   "source": [
    "%sql\n",
    "\n",
    "-- Setup to use staging_assignment database as default\n",
    "\n",
    "USE staging_assignment;"
   ]
  },
  {
   "cell_type": "code",
   "execution_count": 0,
   "metadata": {
    "application/vnd.databricks.v1+cell": {
     "cellMetadata": {
      "byteLimit": 2048000,
      "implicitDf": true,
      "rowLimit": 10000
     },
     "inputWidgets": {},
     "nuid": "847a3e90-f043-4dda-a399-877a0334943b",
     "showTitle": false,
     "title": ""
    }
   },
   "outputs": [
    {
     "output_type": "display_data",
     "data": {
      "text/html": [
       "<style scoped>\n",
       "  .table-result-container {\n",
       "    max-height: 300px;\n",
       "    overflow: auto;\n",
       "  }\n",
       "  table, th, td {\n",
       "    border: 1px solid black;\n",
       "    border-collapse: collapse;\n",
       "  }\n",
       "  th, td {\n",
       "    padding: 5px;\n",
       "  }\n",
       "  th {\n",
       "    text-align: left;\n",
       "  }\n",
       "</style><div class='table-result-container'><table class='table-result'><thead style='background-color: white'><tr></tr></thead><tbody></tbody></table></div>"
      ]
     },
     "metadata": {
      "application/vnd.databricks.v1+output": {
       "addedWidgets": {},
       "aggData": [],
       "aggError": "",
       "aggOverflow": false,
       "aggSchema": [],
       "aggSeriesLimitReached": false,
       "aggType": "",
       "arguments": {},
       "columnCustomDisplayInfos": {},
       "data": [],
       "datasetInfos": [],
       "dbfsResultPath": null,
       "isJsonSchema": true,
       "metadata": {},
       "overflow": false,
       "plotOptions": {
        "customPlotOptions": {},
        "displayType": "table",
        "pivotAggregation": null,
        "pivotColumns": null,
        "xColumns": null,
        "yColumns": null
       },
       "removedWidgets": [],
       "schema": [],
       "type": "table"
      }
     },
     "output_type": "display_data"
    }
   ],
   "source": [
    "%sql\n",
    "\n",
    "-- Uncomment and run this cell, if want to drop the table only (not the database)\n",
    "\n",
    "DROP TABLE IF EXISTS customers;\n",
    "DROP TABLE IF EXISTS orders;"
   ]
  },
  {
   "cell_type": "markdown",
   "metadata": {
    "application/vnd.databricks.v1+cell": {
     "cellMetadata": {
      "byteLimit": 2048000,
      "rowLimit": 10000
     },
     "inputWidgets": {},
     "nuid": "22b5b03e-9a1a-48d1-be13-69beb3c4f25e",
     "showTitle": false,
     "title": ""
    }
   },
   "source": [
    "\n",
    "## Customer Data"
   ]
  },
  {
   "cell_type": "code",
   "execution_count": 0,
   "metadata": {
    "application/vnd.databricks.v1+cell": {
     "cellMetadata": {
      "byteLimit": 2048000,
      "rowLimit": 10000
     },
     "inputWidgets": {},
     "nuid": "d529d84e-ace4-4978-88b3-af7899f32c31",
     "showTitle": false,
     "title": ""
    }
   },
   "outputs": [],
   "source": [
    "# Read cumstomer data and apply necessary data type transformations\n",
    "\n",
    "customers_df =  spark.read.json(\"/FileStore/tables/customers.json\") \\\n",
    "                    .withColumnRenamed(\"Customer Since\",\"Customer_Since\") \\\n",
    "                    .withColumnRenamed(\"E Mail\",\"E_Mail\") \\\n",
    "                    .withColumnRenamed(\"Place Name\",\"Place_Name\") \\\n",
    "                    .withColumnRenamed(\"age\",\"Age\") \\\n",
    "                    .withColumnRenamed(\"cust_id\",\"Cust_Id\") \\\n",
    "                    .withColumnRenamed(\"full_name\",\"Full_Name\") \\\n",
    "                    .withColumn(\"Customer_Since\", F.to_date(\"Customer_Since\",\"MM/dd/yyyy\")) \\\n",
    "                    .withColumn(\"Cust_Id\", F.col(\"Cust_Id\").cast(IntegerType())) \\\n",
    "                    .withColumn(\"Age\", F.col(\"Age\").cast(IntegerType()))"
   ]
  },
  {
   "cell_type": "code",
   "execution_count": 0,
   "metadata": {
    "application/vnd.databricks.v1+cell": {
     "cellMetadata": {
      "byteLimit": 2048000,
      "rowLimit": 10000
     },
     "inputWidgets": {},
     "nuid": "19505297-13b3-495f-bcf9-e97810eadf33",
     "showTitle": false,
     "title": ""
    }
   },
   "outputs": [
    {
     "output_type": "stream",
     "name": "stdout",
     "output_type": "stream",
     "text": [
      "root\n |-- City: string (nullable = true)\n |-- County: string (nullable = true)\n |-- Customer_Since: date (nullable = true)\n |-- E_Mail: string (nullable = true)\n |-- Gender: string (nullable = true)\n |-- Place_Name: string (nullable = true)\n |-- Region: string (nullable = true)\n |-- State: string (nullable = true)\n |-- Zip: long (nullable = true)\n |-- Age: integer (nullable = true)\n |-- Cust_Id: integer (nullable = true)\n |-- Full_Name: string (nullable = true)\n\n"
     ]
    }
   ],
   "source": [
    "customers_df.printSchema()"
   ]
  },
  {
   "cell_type": "code",
   "execution_count": 0,
   "metadata": {
    "application/vnd.databricks.v1+cell": {
     "cellMetadata": {
      "byteLimit": 2048000,
      "rowLimit": 10000
     },
     "inputWidgets": {},
     "nuid": "58769b4c-c41c-44a8-8a87-b87c097b41fe",
     "showTitle": false,
     "title": ""
    }
   },
   "outputs": [
    {
     "output_type": "display_data",
     "data": {
      "text/html": [
       "<style scoped>\n",
       "  .table-result-container {\n",
       "    max-height: 300px;\n",
       "    overflow: auto;\n",
       "  }\n",
       "  table, th, td {\n",
       "    border: 1px solid black;\n",
       "    border-collapse: collapse;\n",
       "  }\n",
       "  th, td {\n",
       "    padding: 5px;\n",
       "  }\n",
       "  th {\n",
       "    text-align: left;\n",
       "  }\n",
       "</style><div class='table-result-container'><table class='table-result'><thead style='background-color: white'><tr><th>City</th><th>County</th><th>Customer_Since</th><th>E_Mail</th><th>Gender</th><th>Place_Name</th><th>Region</th><th>State</th><th>Zip</th><th>Age</th><th>Cust_Id</th><th>Full_Name</th></tr></thead><tbody><tr><td>Vinson</td><td>Harmon</td><td>2006-08-22</td><td>jani.titus@gmail.com</td><td>F</td><td>Vinson</td><td>South</td><td>OK</td><td>73571</td><td>43</td><td>60124</td><td>Titus, Jani</td></tr><tr><td>Graham</td><td>Bradford</td><td>1981-02-04</td><td>lee.eaker@gmail.com</td><td>M</td><td>Graham</td><td>South</td><td>FL</td><td>32042</td><td>28</td><td>42485</td><td>Eaker, Lee</td></tr><tr><td>Grand Forks</td><td>Grand Forks</td><td>2010-06-27</td><td>jason.simoneau@gmail.com</td><td>M</td><td>Grand Forks</td><td>Midwest</td><td>ND</td><td>58201</td><td>65</td><td>53620</td><td>Simoneau, Jason</td></tr></tbody></table></div>"
      ]
     },
     "metadata": {
      "application/vnd.databricks.v1+output": {
       "addedWidgets": {},
       "aggData": [],
       "aggError": "",
       "aggOverflow": false,
       "aggSchema": [],
       "aggSeriesLimitReached": false,
       "aggType": "",
       "arguments": {},
       "columnCustomDisplayInfos": {},
       "data": [
        [
         "Vinson",
         "Harmon",
         "2006-08-22",
         "jani.titus@gmail.com",
         "F",
         "Vinson",
         "South",
         "OK",
         73571,
         43,
         60124,
         "Titus, Jani"
        ],
        [
         "Graham",
         "Bradford",
         "1981-02-04",
         "lee.eaker@gmail.com",
         "M",
         "Graham",
         "South",
         "FL",
         32042,
         28,
         42485,
         "Eaker, Lee"
        ],
        [
         "Grand Forks",
         "Grand Forks",
         "2010-06-27",
         "jason.simoneau@gmail.com",
         "M",
         "Grand Forks",
         "Midwest",
         "ND",
         58201,
         65,
         53620,
         "Simoneau, Jason"
        ]
       ],
       "datasetInfos": [],
       "dbfsResultPath": null,
       "isJsonSchema": true,
       "metadata": {},
       "overflow": false,
       "plotOptions": {
        "customPlotOptions": {},
        "displayType": "table",
        "pivotAggregation": null,
        "pivotColumns": null,
        "xColumns": null,
        "yColumns": null
       },
       "removedWidgets": [],
       "schema": [
        {
         "metadata": "{}",
         "name": "City",
         "type": "\"string\""
        },
        {
         "metadata": "{}",
         "name": "County",
         "type": "\"string\""
        },
        {
         "metadata": "{}",
         "name": "Customer_Since",
         "type": "\"date\""
        },
        {
         "metadata": "{}",
         "name": "E_Mail",
         "type": "\"string\""
        },
        {
         "metadata": "{}",
         "name": "Gender",
         "type": "\"string\""
        },
        {
         "metadata": "{}",
         "name": "Place_Name",
         "type": "\"string\""
        },
        {
         "metadata": "{}",
         "name": "Region",
         "type": "\"string\""
        },
        {
         "metadata": "{}",
         "name": "State",
         "type": "\"string\""
        },
        {
         "metadata": "{}",
         "name": "Zip",
         "type": "\"long\""
        },
        {
         "metadata": "{}",
         "name": "Age",
         "type": "\"long\""
        },
        {
         "metadata": "{}",
         "name": "Cust_Id",
         "type": "\"long\""
        },
        {
         "metadata": "{}",
         "name": "Full_Name",
         "type": "\"string\""
        }
       ],
       "type": "table"
      }
     },
     "output_type": "display_data"
    }
   ],
   "source": [
    "display(customers_df.head(3))"
   ]
  },
  {
   "cell_type": "code",
   "execution_count": 0,
   "metadata": {
    "application/vnd.databricks.v1+cell": {
     "cellMetadata": {
      "byteLimit": 2048000,
      "rowLimit": 10000
     },
     "inputWidgets": {},
     "nuid": "be18b444-29a3-4770-a77d-8927ba24036a",
     "showTitle": false,
     "title": ""
    }
   },
   "outputs": [],
   "source": [
    "# Save customer data to staging database\n",
    "\n",
    "customers_df.write.format(\"delta\").partitionBy(\"Region\").saveAsTable(\"staging_assignment.customers\")"
   ]
  },
  {
   "cell_type": "markdown",
   "metadata": {
    "application/vnd.databricks.v1+cell": {
     "cellMetadata": {
      "byteLimit": 2048000,
      "rowLimit": 10000
     },
     "inputWidgets": {},
     "nuid": "d8be7797-ddf6-4eab-87c6-9e34b3c714ff",
     "showTitle": false,
     "title": ""
    }
   },
   "source": [
    "\n",
    "## Order Data"
   ]
  },
  {
   "cell_type": "code",
   "execution_count": 0,
   "metadata": {
    "application/vnd.databricks.v1+cell": {
     "cellMetadata": {
      "byteLimit": 2048000,
      "rowLimit": 10000
     },
     "inputWidgets": {},
     "nuid": "fbd7af17-0c90-4ecf-947b-1a9eaa23eae0",
     "showTitle": false,
     "title": ""
    }
   },
   "outputs": [],
   "source": [
    "# Define orders schema\n",
    "\n",
    "orders_schema = StructType([\n",
    "    StructField(\"Order_Id\", StringType(), True),\n",
    "    StructField(\"Order_Date\", DateType(), True),\n",
    "    StructField(\"Status\", StringType(), True),\n",
    "    StructField(\"Item_Id\", DoubleType(), True),\n",
    "    StructField(\"Qty_Ordered\", DoubleType(), True),\n",
    "    StructField(\"Price\", DoubleType(), True),\n",
    "    StructField(\"Value\", DoubleType(), True),\n",
    "    StructField(\"Discount_Amount\", DoubleType(), True),\n",
    "    StructField(\"Total\", DoubleType(), True),\n",
    "    StructField(\"Category\", StringType(), True),\n",
    "    StructField(\"Payment_Method\", StringType(), True),\n",
    "    StructField(\"Cust_Id\", DoubleType(), True),\n",
    "    StructField(\"Year\", IntegerType(), True),\n",
    "    StructField(\"Month\", StringType(), True)\n",
    "])"
   ]
  },
  {
   "cell_type": "code",
   "execution_count": 0,
   "metadata": {
    "application/vnd.databricks.v1+cell": {
     "cellMetadata": {
      "byteLimit": 2048000,
      "rowLimit": 10000
     },
     "inputWidgets": {},
     "nuid": "7d18a2d8-b10f-4019-b07a-e9615311785a",
     "showTitle": false,
     "title": ""
    }
   },
   "outputs": [],
   "source": [
    "# Read orders data and apply necessary data type transformations\n",
    "\n",
    "orders_df = spark.read.csv(\"/FileStore/tables/orders.csv\", header=True, schema=orders_schema) \\\n",
    "                    .withColumn(\"Cust_Id\", F.col(\"Cust_Id\").cast(IntegerType())) \\\n",
    "                    .withColumn(\"Order_Id\", F.col(\"Order_Id\").cast(IntegerType())) \\\n",
    "                    .withColumn(\"Item_Id\", F.col(\"Item_Id\").cast(IntegerType())) "
   ]
  },
  {
   "cell_type": "code",
   "execution_count": 0,
   "metadata": {
    "application/vnd.databricks.v1+cell": {
     "cellMetadata": {
      "byteLimit": 2048000,
      "rowLimit": 10000
     },
     "inputWidgets": {},
     "nuid": "cda0332d-bb11-4c44-b16d-ba7d86939901",
     "showTitle": false,
     "title": ""
    }
   },
   "outputs": [
    {
     "output_type": "stream",
     "name": "stdout",
     "output_type": "stream",
     "text": [
      "root\n |-- Order_Id: integer (nullable = true)\n |-- Order_Date: date (nullable = true)\n |-- Status: string (nullable = true)\n |-- Item_Id: integer (nullable = true)\n |-- Qty_Ordered: double (nullable = true)\n |-- Price: double (nullable = true)\n |-- Value: double (nullable = true)\n |-- Discount_Amount: double (nullable = true)\n |-- Total: double (nullable = true)\n |-- Category: string (nullable = true)\n |-- Payment_Method: string (nullable = true)\n |-- Cust_Id: integer (nullable = true)\n |-- Year: integer (nullable = true)\n |-- Month: string (nullable = true)\n\n"
     ]
    }
   ],
   "source": [
    "orders_df.printSchema()"
   ]
  },
  {
   "cell_type": "code",
   "execution_count": 0,
   "metadata": {
    "application/vnd.databricks.v1+cell": {
     "cellMetadata": {
      "byteLimit": 2048000,
      "rowLimit": 10000
     },
     "inputWidgets": {},
     "nuid": "f72b3593-4995-48cf-a33e-f01bb072b24d",
     "showTitle": false,
     "title": ""
    }
   },
   "outputs": [
    {
     "output_type": "display_data",
     "data": {
      "text/html": [
       "<style scoped>\n",
       "  .table-result-container {\n",
       "    max-height: 300px;\n",
       "    overflow: auto;\n",
       "  }\n",
       "  table, th, td {\n",
       "    border: 1px solid black;\n",
       "    border-collapse: collapse;\n",
       "  }\n",
       "  th, td {\n",
       "    padding: 5px;\n",
       "  }\n",
       "  th {\n",
       "    text-align: left;\n",
       "  }\n",
       "</style><div class='table-result-container'><table class='table-result'><thead style='background-color: white'><tr><th>Order_Id</th><th>Order_Date</th><th>Status</th><th>Item_Id</th><th>Qty_Ordered</th><th>Price</th><th>Value</th><th>Discount_Amount</th><th>Total</th><th>Category</th><th>Payment_Method</th><th>Cust_Id</th><th>Year</th><th>Month</th></tr></thead><tbody><tr><td>100354678</td><td>2020-10-01</td><td>received</td><td>574772</td><td>21.0</td><td>89.9</td><td>1798.0</td><td>0.0</td><td>1798.0</td><td>Men's Fashion</td><td>cod</td><td>60124</td><td>2020</td><td>Oct-2020</td></tr><tr><td>100354678</td><td>2020-10-01</td><td>received</td><td>574774</td><td>11.0</td><td>19.0</td><td>190.0</td><td>0.0</td><td>190.0</td><td>Men's Fashion</td><td>cod</td><td>60124</td><td>2020</td><td>Oct-2020</td></tr><tr><td>100354680</td><td>2020-10-01</td><td>complete</td><td>574777</td><td>9.0</td><td>149.9</td><td>1199.2</td><td>0.0</td><td>1199.2</td><td>Men's Fashion</td><td>cod</td><td>60124</td><td>2020</td><td>Oct-2020</td></tr></tbody></table></div>"
      ]
     },
     "metadata": {
      "application/vnd.databricks.v1+output": {
       "addedWidgets": {},
       "aggData": [],
       "aggError": "",
       "aggOverflow": false,
       "aggSchema": [],
       "aggSeriesLimitReached": false,
       "aggType": "",
       "arguments": {},
       "columnCustomDisplayInfos": {},
       "data": [
        [
         100354678,
         "2020-10-01",
         "received",
         574772,
         21.0,
         89.9,
         1798.0,
         0.0,
         1798.0,
         "Men's Fashion",
         "cod",
         60124,
         2020,
         "Oct-2020"
        ],
        [
         100354678,
         "2020-10-01",
         "received",
         574774,
         11.0,
         19.0,
         190.0,
         0.0,
         190.0,
         "Men's Fashion",
         "cod",
         60124,
         2020,
         "Oct-2020"
        ],
        [
         100354680,
         "2020-10-01",
         "complete",
         574777,
         9.0,
         149.9,
         1199.2,
         0.0,
         1199.2,
         "Men's Fashion",
         "cod",
         60124,
         2020,
         "Oct-2020"
        ]
       ],
       "datasetInfos": [],
       "dbfsResultPath": null,
       "isJsonSchema": true,
       "metadata": {},
       "overflow": false,
       "plotOptions": {
        "customPlotOptions": {},
        "displayType": "table",
        "pivotAggregation": null,
        "pivotColumns": null,
        "xColumns": null,
        "yColumns": null
       },
       "removedWidgets": [],
       "schema": [
        {
         "metadata": "{}",
         "name": "Order_Id",
         "type": "\"long\""
        },
        {
         "metadata": "{}",
         "name": "Order_Date",
         "type": "\"date\""
        },
        {
         "metadata": "{}",
         "name": "Status",
         "type": "\"string\""
        },
        {
         "metadata": "{}",
         "name": "Item_Id",
         "type": "\"long\""
        },
        {
         "metadata": "{}",
         "name": "Qty_Ordered",
         "type": "\"double\""
        },
        {
         "metadata": "{}",
         "name": "Price",
         "type": "\"double\""
        },
        {
         "metadata": "{}",
         "name": "Value",
         "type": "\"double\""
        },
        {
         "metadata": "{}",
         "name": "Discount_Amount",
         "type": "\"double\""
        },
        {
         "metadata": "{}",
         "name": "Total",
         "type": "\"double\""
        },
        {
         "metadata": "{}",
         "name": "Category",
         "type": "\"string\""
        },
        {
         "metadata": "{}",
         "name": "Payment_Method",
         "type": "\"string\""
        },
        {
         "metadata": "{}",
         "name": "Cust_Id",
         "type": "\"long\""
        },
        {
         "metadata": "{}",
         "name": "Year",
         "type": "\"long\""
        },
        {
         "metadata": "{}",
         "name": "Month",
         "type": "\"string\""
        }
       ],
       "type": "table"
      }
     },
     "output_type": "display_data"
    }
   ],
   "source": [
    "display(orders_df.head(3))"
   ]
  },
  {
   "cell_type": "code",
   "execution_count": 0,
   "metadata": {
    "application/vnd.databricks.v1+cell": {
     "cellMetadata": {
      "byteLimit": 2048000,
      "rowLimit": 10000
     },
     "inputWidgets": {},
     "nuid": "0dc42d6b-cca5-4218-a61f-a1a8c4ddda08",
     "showTitle": false,
     "title": ""
    }
   },
   "outputs": [],
   "source": [
    "# Save orders data to staging database\n",
    "\n",
    "orders_df.write.format(\"delta\").partitionBy(\"Category\").saveAsTable(\"staging_assignment.orders\")"
   ]
  },
  {
   "cell_type": "code",
   "execution_count": 0,
   "metadata": {
    "application/vnd.databricks.v1+cell": {
     "cellMetadata": {
      "byteLimit": 2048000,
      "implicitDf": true,
      "rowLimit": 10000
     },
     "inputWidgets": {},
     "nuid": "96f306b6-11fe-49d5-bec6-01f456caed16",
     "showTitle": false,
     "title": ""
    }
   },
   "outputs": [
    {
     "output_type": "display_data",
     "data": {
      "text/html": [
       "<style scoped>\n",
       "  .table-result-container {\n",
       "    max-height: 300px;\n",
       "    overflow: auto;\n",
       "  }\n",
       "  table, th, td {\n",
       "    border: 1px solid black;\n",
       "    border-collapse: collapse;\n",
       "  }\n",
       "  th, td {\n",
       "    padding: 5px;\n",
       "  }\n",
       "  th {\n",
       "    text-align: left;\n",
       "  }\n",
       "</style><div class='table-result-container'><table class='table-result'><thead style='background-color: white'><tr><th>database</th><th>tableName</th><th>isTemporary</th></tr></thead><tbody><tr><td>staging_assignment</td><td>customers</td><td>false</td></tr><tr><td>staging_assignment</td><td>orders</td><td>false</td></tr></tbody></table></div>"
      ]
     },
     "metadata": {
      "application/vnd.databricks.v1+output": {
       "addedWidgets": {},
       "aggData": [],
       "aggError": "",
       "aggOverflow": false,
       "aggSchema": [],
       "aggSeriesLimitReached": false,
       "aggType": "",
       "arguments": {},
       "columnCustomDisplayInfos": {},
       "data": [
        [
         "staging_assignment",
         "customers",
         false
        ],
        [
         "staging_assignment",
         "orders",
         false
        ]
       ],
       "datasetInfos": [],
       "dbfsResultPath": null,
       "isJsonSchema": true,
       "metadata": {},
       "overflow": false,
       "plotOptions": {
        "customPlotOptions": {},
        "displayType": "table",
        "pivotAggregation": null,
        "pivotColumns": null,
        "xColumns": null,
        "yColumns": null
       },
       "removedWidgets": [],
       "schema": [
        {
         "metadata": "{}",
         "name": "database",
         "type": "\"string\""
        },
        {
         "metadata": "{}",
         "name": "tableName",
         "type": "\"string\""
        },
        {
         "metadata": "{}",
         "name": "isTemporary",
         "type": "\"boolean\""
        }
       ],
       "type": "table"
      }
     },
     "output_type": "display_data"
    }
   ],
   "source": [
    "%sql\n",
    "\n",
    "-- verify table creation to database\n",
    "\n",
    "SHOW Tables;"
   ]
  },
  {
   "cell_type": "code",
   "execution_count": 0,
   "metadata": {
    "application/vnd.databricks.v1+cell": {
     "cellMetadata": {
      "byteLimit": 2048000,
      "implicitDf": true,
      "rowLimit": 10000
     },
     "inputWidgets": {},
     "nuid": "483f7d4a-68a4-42ec-a64a-76861670e997",
     "showTitle": false,
     "title": ""
    }
   },
   "outputs": [
    {
     "output_type": "display_data",
     "data": {
      "text/html": [
       "<style scoped>\n",
       "  .table-result-container {\n",
       "    max-height: 300px;\n",
       "    overflow: auto;\n",
       "  }\n",
       "  table, th, td {\n",
       "    border: 1px solid black;\n",
       "    border-collapse: collapse;\n",
       "  }\n",
       "  th, td {\n",
       "    padding: 5px;\n",
       "  }\n",
       "  th {\n",
       "    text-align: left;\n",
       "  }\n",
       "</style><div class='table-result-container'><table class='table-result'><thead style='background-color: white'><tr><th>City</th><th>County</th><th>Customer_Since</th><th>E_Mail</th><th>Gender</th><th>Place_Name</th><th>Region</th><th>State</th><th>Zip</th><th>Age</th><th>Cust_Id</th><th>Full_Name</th></tr></thead><tbody><tr><td>Grand Forks</td><td>Grand Forks</td><td>2010-06-27</td><td>jason.simoneau@gmail.com</td><td>M</td><td>Grand Forks</td><td>Midwest</td><td>ND</td><td>58201</td><td>65</td><td>53620</td><td>Simoneau, Jason</td></tr><tr><td>Brownstown</td><td>Fayette</td><td>2017-03-31</td><td>elizbeth.raminez@gmail.com</td><td>F</td><td>Brownstown</td><td>Midwest</td><td>IL</td><td>62418</td><td>71</td><td>56449</td><td>Raminez, Elizbeth</td></tr><tr><td>Brighton</td><td>Jersey</td><td>2016-08-24</td><td>rachell.murguia@hotmail.com</td><td>F</td><td>Brighton</td><td>Midwest</td><td>IL</td><td>62012</td><td>66</td><td>60130</td><td>Murguia, Rachell</td></tr><tr><td>Snyder</td><td>Dodge</td><td>2013-01-24</td><td>romeo.hopps@outlook.com</td><td>M</td><td>Snyder</td><td>Midwest</td><td>NE</td><td>68664</td><td>38</td><td>37011</td><td>Hopps, Romeo</td></tr><tr><td>Saint Louis</td><td>St. Louis (city)</td><td>2012-01-29</td><td>darrin.heyer@yahoo.co.in</td><td>M</td><td>Saint Louis</td><td>Midwest</td><td>MO</td><td>63110</td><td>60</td><td>60134</td><td>Heyer, Darrin</td></tr></tbody></table></div>"
      ]
     },
     "metadata": {
      "application/vnd.databricks.v1+output": {
       "addedWidgets": {},
       "aggData": [],
       "aggError": "",
       "aggOverflow": false,
       "aggSchema": [],
       "aggSeriesLimitReached": false,
       "aggType": "",
       "arguments": {},
       "columnCustomDisplayInfos": {},
       "data": [
        [
         "Grand Forks",
         "Grand Forks",
         "2010-06-27",
         "jason.simoneau@gmail.com",
         "M",
         "Grand Forks",
         "Midwest",
         "ND",
         58201,
         65,
         53620,
         "Simoneau, Jason"
        ],
        [
         "Brownstown",
         "Fayette",
         "2017-03-31",
         "elizbeth.raminez@gmail.com",
         "F",
         "Brownstown",
         "Midwest",
         "IL",
         62418,
         71,
         56449,
         "Raminez, Elizbeth"
        ],
        [
         "Brighton",
         "Jersey",
         "2016-08-24",
         "rachell.murguia@hotmail.com",
         "F",
         "Brighton",
         "Midwest",
         "IL",
         62012,
         66,
         60130,
         "Murguia, Rachell"
        ],
        [
         "Snyder",
         "Dodge",
         "2013-01-24",
         "romeo.hopps@outlook.com",
         "M",
         "Snyder",
         "Midwest",
         "NE",
         68664,
         38,
         37011,
         "Hopps, Romeo"
        ],
        [
         "Saint Louis",
         "St. Louis (city)",
         "2012-01-29",
         "darrin.heyer@yahoo.co.in",
         "M",
         "Saint Louis",
         "Midwest",
         "MO",
         63110,
         60,
         60134,
         "Heyer, Darrin"
        ]
       ],
       "datasetInfos": [],
       "dbfsResultPath": null,
       "isJsonSchema": true,
       "metadata": {},
       "overflow": false,
       "plotOptions": {
        "customPlotOptions": {},
        "displayType": "table",
        "pivotAggregation": null,
        "pivotColumns": null,
        "xColumns": null,
        "yColumns": null
       },
       "removedWidgets": [],
       "schema": [
        {
         "metadata": "{}",
         "name": "City",
         "type": "\"string\""
        },
        {
         "metadata": "{}",
         "name": "County",
         "type": "\"string\""
        },
        {
         "metadata": "{}",
         "name": "Customer_Since",
         "type": "\"date\""
        },
        {
         "metadata": "{}",
         "name": "E_Mail",
         "type": "\"string\""
        },
        {
         "metadata": "{}",
         "name": "Gender",
         "type": "\"string\""
        },
        {
         "metadata": "{}",
         "name": "Place_Name",
         "type": "\"string\""
        },
        {
         "metadata": "{}",
         "name": "Region",
         "type": "\"string\""
        },
        {
         "metadata": "{}",
         "name": "State",
         "type": "\"string\""
        },
        {
         "metadata": "{}",
         "name": "Zip",
         "type": "\"long\""
        },
        {
         "metadata": "{}",
         "name": "Age",
         "type": "\"integer\""
        },
        {
         "metadata": "{}",
         "name": "Cust_Id",
         "type": "\"integer\""
        },
        {
         "metadata": "{}",
         "name": "Full_Name",
         "type": "\"string\""
        }
       ],
       "type": "table"
      }
     },
     "output_type": "display_data"
    }
   ],
   "source": [
    "%sql\n",
    "\n",
    "select * from staging_assignment.customers limit 5;"
   ]
  },
  {
   "cell_type": "code",
   "execution_count": 0,
   "metadata": {
    "application/vnd.databricks.v1+cell": {
     "cellMetadata": {
      "byteLimit": 2048000,
      "implicitDf": true,
      "rowLimit": 10000
     },
     "inputWidgets": {},
     "nuid": "a1997b6f-5b04-4e3a-a3d5-7942c59b53d8",
     "showTitle": false,
     "title": ""
    }
   },
   "outputs": [
    {
     "output_type": "display_data",
     "data": {
      "text/html": [
       "<style scoped>\n",
       "  .table-result-container {\n",
       "    max-height: 300px;\n",
       "    overflow: auto;\n",
       "  }\n",
       "  table, th, td {\n",
       "    border: 1px solid black;\n",
       "    border-collapse: collapse;\n",
       "  }\n",
       "  th, td {\n",
       "    padding: 5px;\n",
       "  }\n",
       "  th {\n",
       "    text-align: left;\n",
       "  }\n",
       "</style><div class='table-result-container'><table class='table-result'><thead style='background-color: white'><tr><th>Order_Id</th><th>Order_Date</th><th>Status</th><th>Item_Id</th><th>Qty_Ordered</th><th>Price</th><th>Value</th><th>Discount_Amount</th><th>Total</th><th>Category</th><th>Payment_Method</th><th>Cust_Id</th><th>Year</th><th>Month</th></tr></thead><tbody><tr><td>100354677</td><td>2020-10-01</td><td>canceled</td><td>574771</td><td>2.0</td><td>549.9</td><td>549.9</td><td>0.0</td><td>549.9</td><td>Appliances</td><td>Payaxis</td><td>42485</td><td>2020</td><td>Oct-2020</td></tr><tr><td>100356116</td><td>2020-10-08</td><td>order_refunded</td><td>577467</td><td>1.0</td><td>549.9</td><td>0.0</td><td>0.0</td><td>0.0</td><td>Appliances</td><td>Payaxis</td><td>42485</td><td>2020</td><td>Oct-2020</td></tr><tr><td>100358724</td><td>2020-10-21</td><td>order_refunded</td><td>581862</td><td>1.0</td><td>549.9</td><td>0.0</td><td>0.0</td><td>0.0</td><td>Appliances</td><td>cod</td><td>42485</td><td>2020</td><td>Oct-2020</td></tr><tr><td>100403034</td><td>2020-12-24</td><td>canceled</td><td>656937</td><td>2.0</td><td>254.8</td><td>254.8</td><td>39.80628</td><td>214.99372</td><td>Appliances</td><td>Easypay</td><td>42485</td><td>2020</td><td>Dec-2020</td></tr><tr><td>100403034</td><td>2020-12-24</td><td>canceled</td><td>656938</td><td>2.0</td><td>315.5</td><td>315.5</td><td>49.28916999999999</td><td>266.21083</td><td>Appliances</td><td>Easypay</td><td>42485</td><td>2020</td><td>Dec-2020</td></tr></tbody></table></div>"
      ]
     },
     "metadata": {
      "application/vnd.databricks.v1+output": {
       "addedWidgets": {},
       "aggData": [],
       "aggError": "",
       "aggOverflow": false,
       "aggSchema": [],
       "aggSeriesLimitReached": false,
       "aggType": "",
       "arguments": {},
       "columnCustomDisplayInfos": {},
       "data": [
        [
         100354677,
         "2020-10-01",
         "canceled",
         574771,
         2.0,
         549.9,
         549.9,
         0.0,
         549.9,
         "Appliances",
         "Payaxis",
         42485,
         2020,
         "Oct-2020"
        ],
        [
         100356116,
         "2020-10-08",
         "order_refunded",
         577467,
         1.0,
         549.9,
         0.0,
         0.0,
         0.0,
         "Appliances",
         "Payaxis",
         42485,
         2020,
         "Oct-2020"
        ],
        [
         100358724,
         "2020-10-21",
         "order_refunded",
         581862,
         1.0,
         549.9,
         0.0,
         0.0,
         0.0,
         "Appliances",
         "cod",
         42485,
         2020,
         "Oct-2020"
        ],
        [
         100403034,
         "2020-12-24",
         "canceled",
         656937,
         2.0,
         254.8,
         254.8,
         39.80628,
         214.99372,
         "Appliances",
         "Easypay",
         42485,
         2020,
         "Dec-2020"
        ],
        [
         100403034,
         "2020-12-24",
         "canceled",
         656938,
         2.0,
         315.5,
         315.5,
         49.28916999999999,
         266.21083,
         "Appliances",
         "Easypay",
         42485,
         2020,
         "Dec-2020"
        ]
       ],
       "datasetInfos": [],
       "dbfsResultPath": null,
       "isJsonSchema": true,
       "metadata": {},
       "overflow": false,
       "plotOptions": {
        "customPlotOptions": {},
        "displayType": "table",
        "pivotAggregation": null,
        "pivotColumns": null,
        "xColumns": null,
        "yColumns": null
       },
       "removedWidgets": [],
       "schema": [
        {
         "metadata": "{}",
         "name": "Order_Id",
         "type": "\"integer\""
        },
        {
         "metadata": "{}",
         "name": "Order_Date",
         "type": "\"date\""
        },
        {
         "metadata": "{}",
         "name": "Status",
         "type": "\"string\""
        },
        {
         "metadata": "{}",
         "name": "Item_Id",
         "type": "\"integer\""
        },
        {
         "metadata": "{}",
         "name": "Qty_Ordered",
         "type": "\"double\""
        },
        {
         "metadata": "{}",
         "name": "Price",
         "type": "\"double\""
        },
        {
         "metadata": "{}",
         "name": "Value",
         "type": "\"double\""
        },
        {
         "metadata": "{}",
         "name": "Discount_Amount",
         "type": "\"double\""
        },
        {
         "metadata": "{}",
         "name": "Total",
         "type": "\"double\""
        },
        {
         "metadata": "{}",
         "name": "Category",
         "type": "\"string\""
        },
        {
         "metadata": "{}",
         "name": "Payment_Method",
         "type": "\"string\""
        },
        {
         "metadata": "{}",
         "name": "Cust_Id",
         "type": "\"integer\""
        },
        {
         "metadata": "{}",
         "name": "Year",
         "type": "\"integer\""
        },
        {
         "metadata": "{}",
         "name": "Month",
         "type": "\"string\""
        }
       ],
       "type": "table"
      }
     },
     "output_type": "display_data"
    }
   ],
   "source": [
    "%sql\n",
    "\n",
    "select * from staging_assignment.orders limit 5;"
   ]
  },
  {
   "cell_type": "code",
   "execution_count": 0,
   "metadata": {
    "application/vnd.databricks.v1+cell": {
     "cellMetadata": {
      "byteLimit": 2048000,
      "rowLimit": 10000
     },
     "inputWidgets": {},
     "nuid": "f1ddd844-708e-4dfb-8c90-b2fec9c81953",
     "showTitle": false,
     "title": ""
    }
   },
   "outputs": [],
   "source": []
  }
 ],
 "metadata": {
  "application/vnd.databricks.v1+notebook": {
   "dashboards": [],
   "language": "python",
   "notebookMetadata": {
    "mostRecentlyExecutedCommandWithImplicitDF": {
     "commandId": 1029606358170667,
     "dataframes": [
      "_sqldf"
     ]
    },
    "pythonIndentUnit": 4
   },
   "notebookName": "BDCC 1 Landing to Staging",
   "widgets": {}
  },
  "kernelspec": {
   "display_name": "Python 3 (ipykernel)",
   "language": "python",
   "name": "python3"
  },
  "language_info": {
   "codemirror_mode": {
    "name": "ipython",
    "version": 3
   },
   "file_extension": ".py",
   "mimetype": "text/x-python",
   "name": "python",
   "nbconvert_exporter": "python",
   "pygments_lexer": "ipython3",
   "version": "3.9.7"
  }
 },
 "nbformat": 4,
 "nbformat_minor": 0
}
